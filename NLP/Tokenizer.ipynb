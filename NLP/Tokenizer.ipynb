{
 "cells": [
  {
   "cell_type": "code",
   "execution_count": 10,
   "id": "2570cf06-31cd-4a9b-94c2-916b1397db70",
   "metadata": {},
   "outputs": [],
   "source": [
    "import tensorflow as tf\n",
    "from tensorflow import keras\n",
    "from tensorflow.keras.preprocessing.text import Tokenizer\n",
    "from tensorflow.keras.preprocessing.sequence import pad_sequences\n",
    "import numpy as np"
   ]
  },
  {
   "cell_type": "markdown",
   "id": "36aa605c-7c4c-429d-baf9-b97de69fc9d2",
   "metadata": {},
   "source": [
    "## Tokenizer turn text into tokens"
   ]
  },
  {
   "cell_type": "code",
   "execution_count": 2,
   "id": "f6e8ad31-8634-46ed-8c39-2b534869173a",
   "metadata": {},
   "outputs": [
    {
     "name": "stdout",
     "output_type": "stream",
     "text": [
      "{'<OOV>': 1, 'i': 2, 'love': 3, 'my': 4, 'dog': 5, 'you': 6, 'cat': 7, 'fuck': 8, 'stupid': 9, 'bitch': 10, 'u': 11}\n"
     ]
    }
   ],
   "source": [
    "# Train data\n",
    "sentences = [\n",
    "    \"I love my dog\",\n",
    "    \"I love my cat\",\n",
    "    \"Fuck you, you stupid bitch\",\n",
    "    \"I love u\",\n",
    "    \"my dog!!!\"\n",
    "]\n",
    "# OOV will replace the word that is not in the vocab with oov token\n",
    "tokenizer = Tokenizer(num_words=100, oov_token=\"<OOV>\")\n",
    "tokenizer.fit_on_texts(sentences)\n",
    "word_idx = tokenizer.word_index\n",
    "print(word_idx)"
   ]
  },
  {
   "cell_type": "code",
   "execution_count": null,
   "id": "68cc4276-a6ed-407c-a47d-450d6173a777",
   "metadata": {},
   "outputs": [],
   "source": [
    "tokenizer??"
   ]
  },
  {
   "cell_type": "markdown",
   "id": "31991a84-fe0a-400e-978f-00c25d4f9b1f",
   "metadata": {},
   "source": [
    "## Text into sequence"
   ]
  },
  {
   "cell_type": "code",
   "execution_count": null,
   "id": "8f9f375d-9d68-4022-8122-f8231b2fe086",
   "metadata": {},
   "outputs": [],
   "source": [
    "test_data = [\n",
    "    \"Fuck you dumbass trick\",\n",
    "    \"Hoe ass bitch\",\n",
    "    \"Hi, How are you today you dumbass stupid ass hoe ass trick\"\n",
    "]\n",
    "# Word that is not in the index\n",
    "sequences = tokenizer.texts_to_sequences(test_data)\n",
    "# Pad the sequence if length is not equal\n",
    "padded = pad_sequences(sequences, padding='post', maxlen=None)\n",
    "padded"
   ]
  },
  {
   "cell_type": "markdown",
   "id": "c333360b-fae0-40a9-a9ce-361be7f7abd0",
   "metadata": {},
   "source": [
    "## Sentiment Text Prediction"
   ]
  },
  {
   "cell_type": "code",
   "execution_count": 24,
   "id": "edec9768-181f-4c34-93e1-d28e9447508b",
   "metadata": {},
   "outputs": [],
   "source": [
    "import requests\n",
    "from sklearn.model_selection import train_test_split"
   ]
  },
  {
   "cell_type": "code",
   "execution_count": 25,
   "id": "3993b704-5790-4092-834a-1e87bfa12dd8",
   "metadata": {},
   "outputs": [],
   "source": [
    "res = requests.get(\"https://storage.googleapis.com/learning-datasets/sarcasm.json\")\n",
    "data = res.json()"
   ]
  },
  {
   "cell_type": "code",
   "execution_count": 26,
   "id": "4df9dfae-85a5-4e5a-b094-e0705837c0eb",
   "metadata": {},
   "outputs": [],
   "source": [
    "# Put sentences and labels into 2 lists\n",
    "sentences = []\n",
    "labels = []\n",
    "for item in data:\n",
    "    sentences.append(item[\"headline\"])\n",
    "    labels.append(item[\"is_sarcastic\"])"
   ]
  },
  {
   "cell_type": "code",
   "execution_count": 27,
   "id": "067ab8d5-5d9f-4765-8643-5f77884f4bd8",
   "metadata": {},
   "outputs": [],
   "source": [
    "# Define variables\n",
    "vocab_size = 10000\n",
    "embedding_dim = 16\n",
    "max_length = 100\n",
    "trunc_type='post'\n",
    "padding_type='post'\n",
    "oov_tok = \"<OOV>\""
   ]
  },
  {
   "cell_type": "code",
   "execution_count": 28,
   "id": "11797198-294e-45ac-952c-278faf8bbd1e",
   "metadata": {},
   "outputs": [],
   "source": [
    "# Split data\n",
    "X_train, X_test, y_train, y_test = train_test_split(sentences, labels, test_size=0.2, random_state=42)"
   ]
  },
  {
   "cell_type": "code",
   "execution_count": 29,
   "id": "9d6cde1a-21d1-4434-a1c2-e4dc8e0f3fb5",
   "metadata": {},
   "outputs": [],
   "source": [
    "# Create token for training set\n",
    "tokenizer = Tokenizer(num_words=vocab_size, oov_token=oov_tok)\n",
    "tokenizer.fit_on_texts(X_train)\n",
    "\n",
    "# Create token for sequences\n",
    "training_seq = tokenizer.texts_to_sequences(X_train)\n",
    "training_padded = pad_sequences(training_seq, padding=padding_type, truncating=trunc_type, maxlen=max_length)\n",
    "val_seq = tokenizer.texts_to_sequences(X_test)\n",
    "val_padded = pad_sequences(val_seq, padding=padding_type, truncating=trunc_type, maxlen=max_length)"
   ]
  },
  {
   "cell_type": "code",
   "execution_count": 12,
   "id": "66b88432-fea3-4097-a9d1-61bf7eb8053a",
   "metadata": {},
   "outputs": [],
   "source": [
    "# Convert to numpy array to train with tensorflow\n",
    "train_data = np.array(training_padded)\n",
    "train_labels = np.array(y_train)\n",
    "test_data = np.array(val_padded)\n",
    "test_labels = np.array(y_test)"
   ]
  },
  {
   "cell_type": "code",
   "execution_count": 13,
   "id": "0942d32c-ca68-4286-be7b-2db9a9319ba2",
   "metadata": {},
   "outputs": [],
   "source": [
    "from tensorflow.keras.models import Sequential\n",
    "from tensorflow.keras.layers import Dense, Embedding, GlobalAveragePooling1D"
   ]
  },
  {
   "cell_type": "code",
   "execution_count": 14,
   "id": "01bf37dc-e90f-4497-a9d5-c6632ba89a65",
   "metadata": {},
   "outputs": [],
   "source": [
    "model = Sequential()\n",
    "model.add(Embedding(vocab_size, embedding_dim, input_length=max_length))\n",
    "model.add(GlobalAveragePooling1D())\n",
    "model.add(Dense(24, activation='relu'))\n",
    "model.add(Dense(1, activation='sigmoid'))\n",
    "model.compile(loss=\"binary_crossentropy\", optimizer=\"adam\", metrics=[\"accuracy\"])"
   ]
  },
  {
   "cell_type": "code",
   "execution_count": 15,
   "id": "0331ea26-b518-489a-b48c-4b4e1fc30aec",
   "metadata": {},
   "outputs": [
    {
     "name": "stdout",
     "output_type": "stream",
     "text": [
      "Epoch 1/30\n",
      "668/668 - 1s - loss: 0.6741 - accuracy: 0.5723 - val_loss: 0.6147 - val_accuracy: 0.6715 - 1s/epoch - 2ms/step\n",
      "Epoch 2/30\n",
      "668/668 - 1s - loss: 0.4510 - accuracy: 0.8258 - val_loss: 0.3826 - val_accuracy: 0.8418 - 628ms/epoch - 940us/step\n",
      "Epoch 3/30\n",
      "668/668 - 1s - loss: 0.3200 - accuracy: 0.8733 - val_loss: 0.3465 - val_accuracy: 0.8527 - 624ms/epoch - 934us/step\n",
      "Epoch 4/30\n",
      "668/668 - 1s - loss: 0.2700 - accuracy: 0.8949 - val_loss: 0.3341 - val_accuracy: 0.8562 - 627ms/epoch - 939us/step\n",
      "Epoch 5/30\n",
      "668/668 - 1s - loss: 0.2351 - accuracy: 0.9098 - val_loss: 0.3313 - val_accuracy: 0.8609 - 622ms/epoch - 931us/step\n",
      "Epoch 6/30\n",
      "668/668 - 1s - loss: 0.2094 - accuracy: 0.9195 - val_loss: 0.3601 - val_accuracy: 0.8429 - 624ms/epoch - 935us/step\n",
      "Epoch 7/30\n",
      "668/668 - 1s - loss: 0.1880 - accuracy: 0.9296 - val_loss: 0.3522 - val_accuracy: 0.8538 - 623ms/epoch - 933us/step\n",
      "Epoch 8/30\n",
      "668/668 - 1s - loss: 0.1700 - accuracy: 0.9379 - val_loss: 0.3604 - val_accuracy: 0.8527 - 627ms/epoch - 939us/step\n",
      "Epoch 9/30\n",
      "668/668 - 1s - loss: 0.1553 - accuracy: 0.9437 - val_loss: 0.3658 - val_accuracy: 0.8615 - 622ms/epoch - 931us/step\n",
      "Epoch 10/30\n",
      "668/668 - 1s - loss: 0.1410 - accuracy: 0.9493 - val_loss: 0.3819 - val_accuracy: 0.8590 - 628ms/epoch - 940us/step\n",
      "Epoch 11/30\n",
      "668/668 - 1s - loss: 0.1301 - accuracy: 0.9542 - val_loss: 0.4004 - val_accuracy: 0.8560 - 632ms/epoch - 946us/step\n",
      "Epoch 12/30\n",
      "668/668 - 1s - loss: 0.1198 - accuracy: 0.9588 - val_loss: 0.4191 - val_accuracy: 0.8532 - 630ms/epoch - 943us/step\n",
      "Epoch 13/30\n",
      "668/668 - 1s - loss: 0.1106 - accuracy: 0.9629 - val_loss: 0.4376 - val_accuracy: 0.8469 - 621ms/epoch - 930us/step\n",
      "Epoch 14/30\n",
      "668/668 - 1s - loss: 0.1024 - accuracy: 0.9656 - val_loss: 0.4749 - val_accuracy: 0.8467 - 623ms/epoch - 932us/step\n",
      "Epoch 15/30\n",
      "668/668 - 1s - loss: 0.0951 - accuracy: 0.9694 - val_loss: 0.4827 - val_accuracy: 0.8435 - 626ms/epoch - 937us/step\n",
      "Epoch 16/30\n",
      "668/668 - 1s - loss: 0.0881 - accuracy: 0.9715 - val_loss: 0.5066 - val_accuracy: 0.8426 - 624ms/epoch - 934us/step\n",
      "Epoch 17/30\n",
      "668/668 - 1s - loss: 0.0819 - accuracy: 0.9739 - val_loss: 0.5392 - val_accuracy: 0.8414 - 622ms/epoch - 931us/step\n",
      "Epoch 18/30\n",
      "668/668 - 1s - loss: 0.0768 - accuracy: 0.9757 - val_loss: 0.5774 - val_accuracy: 0.8396 - 642ms/epoch - 961us/step\n",
      "Epoch 19/30\n",
      "668/668 - 1s - loss: 0.0725 - accuracy: 0.9784 - val_loss: 0.5928 - val_accuracy: 0.8360 - 622ms/epoch - 931us/step\n",
      "Epoch 20/30\n",
      "668/668 - 1s - loss: 0.0674 - accuracy: 0.9793 - val_loss: 0.6118 - val_accuracy: 0.8347 - 626ms/epoch - 937us/step\n",
      "Epoch 21/30\n",
      "668/668 - 1s - loss: 0.0627 - accuracy: 0.9810 - val_loss: 0.6501 - val_accuracy: 0.8336 - 655ms/epoch - 981us/step\n",
      "Epoch 22/30\n",
      "668/668 - 1s - loss: 0.0576 - accuracy: 0.9830 - val_loss: 0.6655 - val_accuracy: 0.8270 - 642ms/epoch - 962us/step\n",
      "Epoch 23/30\n",
      "668/668 - 1s - loss: 0.0553 - accuracy: 0.9839 - val_loss: 0.7341 - val_accuracy: 0.8300 - 631ms/epoch - 945us/step\n",
      "Epoch 24/30\n",
      "668/668 - 1s - loss: 0.0516 - accuracy: 0.9859 - val_loss: 0.7340 - val_accuracy: 0.8267 - 630ms/epoch - 943us/step\n",
      "Epoch 25/30\n",
      "668/668 - 1s - loss: 0.0487 - accuracy: 0.9855 - val_loss: 0.7554 - val_accuracy: 0.8225 - 633ms/epoch - 947us/step\n",
      "Epoch 26/30\n",
      "668/668 - 1s - loss: 0.0443 - accuracy: 0.9870 - val_loss: 0.7815 - val_accuracy: 0.8250 - 639ms/epoch - 957us/step\n",
      "Epoch 27/30\n",
      "668/668 - 1s - loss: 0.0418 - accuracy: 0.9884 - val_loss: 0.8299 - val_accuracy: 0.8197 - 633ms/epoch - 948us/step\n",
      "Epoch 28/30\n",
      "668/668 - 1s - loss: 0.0394 - accuracy: 0.9889 - val_loss: 0.8856 - val_accuracy: 0.8207 - 629ms/epoch - 942us/step\n",
      "Epoch 29/30\n",
      "668/668 - 1s - loss: 0.0387 - accuracy: 0.9893 - val_loss: 0.8750 - val_accuracy: 0.8220 - 634ms/epoch - 949us/step\n",
      "Epoch 30/30\n",
      "668/668 - 1s - loss: 0.0351 - accuracy: 0.9915 - val_loss: 0.9194 - val_accuracy: 0.8188 - 630ms/epoch - 944us/step\n"
     ]
    }
   ],
   "source": [
    "epochs = 30\n",
    "history = model.fit(train_data, train_labels, epochs=epochs, validation_data=(test_data, test_labels), verbose=2)"
   ]
  },
  {
   "cell_type": "code",
   "execution_count": null,
   "id": "afbd1fe8-ba74-46c2-a940-dce4b1379929",
   "metadata": {},
   "outputs": [],
   "source": [
    "import matplotlib.pyplot as plt\n",
    "\n",
    "\n",
    "def plot_graphs(history, string):\n",
    "  plt.plot(history.history[string])\n",
    "  plt.plot(history.history['val_'+string])\n",
    "  plt.xlabel(\"Epochs\")\n",
    "  plt.ylabel(string)\n",
    "  plt.legend([string, 'val_'+string])\n",
    "  plt.show()\n",
    "  \n",
    "plot_graphs(history, \"accuracy\")\n",
    "plot_graphs(history, \"loss\")"
   ]
  },
  {
   "cell_type": "code",
   "execution_count": null,
   "id": "d9dab5f0-563a-441e-94c3-e120691d23be",
   "metadata": {},
   "outputs": [],
   "source": [
    "model.save('sentiment.h5')"
   ]
  },
  {
   "cell_type": "code",
   "execution_count": 31,
   "id": "edca9264-397b-45c6-8ef2-37a4b4db98eb",
   "metadata": {},
   "outputs": [],
   "source": [
    "from tensorflow.keras.models import load_model\n",
    "\n",
    "# Load model and predict\n",
    "model = load_model('sentiment.h5')\n",
    "tokenizer = Tokenizer(num_words=vocab_size, oov_token=oov_tok)\n",
    "tokenizer.fit_on_texts(X_train)\n",
    "def predict_sentiment(sentence):\n",
    "    sequences = tokenizer.texts_to_sequences(sentence)\n",
    "    padded = pad_sequences(sequences, maxlen=max_length, padding=padding_type, truncating=trunc_type)\n",
    "    yhat = model.predict(padded)\n",
    "    result = []\n",
    "    for p in yhat:\n",
    "        if p > 0.5:\n",
    "            result.append(\"Sarcastic\")\n",
    "        else:\n",
    "            result.append(\"Not Sarcastic\")\n",
    "    return result"
   ]
  },
  {
   "cell_type": "code",
   "execution_count": 32,
   "id": "6bb9bb5b-0019-4f8c-8763-828a0c2e6305",
   "metadata": {},
   "outputs": [
    {
     "name": "stdout",
     "output_type": "stream",
     "text": [
      "1/1 [==============================] - 0s 148ms/step\n"
     ]
    },
    {
     "data": {
      "text/plain": [
       "['Sarcastic', 'Not Sarcastic', 'Sarcastic', 'Not Sarcastic', 'Not Sarcastic']"
      ]
     },
     "execution_count": 32,
     "metadata": {},
     "output_type": "execute_result"
    }
   ],
   "source": [
    "sentence = [\"granny starting to fear spiders in the garden might be real\", \n",
    "            \"game of thrones season finale showing this sunday night\", \n",
    "            \"Government makes it seem like UFO might be real!\", \n",
    "            \"Hi, my name is ... nice to meet you...\",\n",
    "            \"Might be real!!\"\n",
    "           ]\n",
    "results = predict_sentiment(sentence)\n",
    "results"
   ]
  },
  {
   "cell_type": "code",
   "execution_count": null,
   "id": "b1002d21-62d9-4654-b294-aadc9ffad541",
   "metadata": {},
   "outputs": [],
   "source": []
  }
 ],
 "metadata": {
  "kernelspec": {
   "display_name": "Python 3 (ipykernel)",
   "language": "python",
   "name": "python3"
  },
  "language_info": {
   "codemirror_mode": {
    "name": "ipython",
    "version": 3
   },
   "file_extension": ".py",
   "mimetype": "text/x-python",
   "name": "python",
   "nbconvert_exporter": "python",
   "pygments_lexer": "ipython3",
   "version": "3.9.6"
  }
 },
 "nbformat": 4,
 "nbformat_minor": 5
}
