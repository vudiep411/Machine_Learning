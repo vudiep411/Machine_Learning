{
 "cells": [
  {
   "cell_type": "code",
   "execution_count": 1,
   "id": "c301c76a-7f1f-4ce7-a7ca-3559863c2420",
   "metadata": {},
   "outputs": [],
   "source": [
    "import tensorflow as tf\n",
    "\n",
    "from tensorflow.keras.preprocessing.sequence import pad_sequences\n",
    "from tensorflow.keras.layers import Embedding, LSTM, Dense, Bidirectional\n",
    "from tensorflow.keras.preprocessing.text import Tokenizer\n",
    "from tensorflow.keras.models import Sequential\n",
    "from tensorflow.keras.optimizers import Adam\n",
    "import numpy as np\n",
    "import requests"
   ]
  },
  {
   "cell_type": "code",
   "execution_count": 2,
   "id": "102f2072-9ab2-4515-94d6-e4cedc370590",
   "metadata": {},
   "outputs": [
    {
     "name": "stdout",
     "output_type": "stream",
     "text": [
      "Num GPUs Available:  1\n"
     ]
    }
   ],
   "source": [
    "gpus = tf.config.experimental.list_physical_devices('GPU')\n",
    "for gpu in gpus:\n",
    "    tf.config.experimental.set_memory_growth(gpu, True)\n",
    "\n",
    "print(\"Num GPUs Available: \", len(tf.config.list_physical_devices('GPU')))"
   ]
  },
  {
   "cell_type": "code",
   "execution_count": 3,
   "id": "b83b5c4d-db05-4838-a6e5-2c9f062c55a6",
   "metadata": {},
   "outputs": [],
   "source": [
    "res = requests.get(\"https://storage.googleapis.com/learning-datasets/irish-lyrics-eof.txt\")\n",
    "text = res.text.lower()\n",
    "split_lines = text.split(\"\\n\")"
   ]
  },
  {
   "cell_type": "code",
   "execution_count": 4,
   "id": "2d19a9ea-a047-4ca4-9cfe-c79aa318c56c",
   "metadata": {},
   "outputs": [],
   "source": [
    "# Tokenizer\n",
    "tokenizer = Tokenizer()\n",
    "tokenizer.fit_on_texts(split_lines)\n",
    "total_words = len(tokenizer.word_index) + 1"
   ]
  },
  {
   "cell_type": "code",
   "execution_count": 40,
   "id": "0850255d-001e-4178-b78a-b602a9ce58de",
   "metadata": {},
   "outputs": [
    {
     "data": {
      "text/plain": [
       "[2102, 7, 449, 23]"
      ]
     },
     "execution_count": 40,
     "metadata": {},
     "output_type": "execute_result"
    }
   ],
   "source": [
    "a = tokenizer.texts_to_sequences([\"Hello my name is Vu\"])[0]\n",
    "a"
   ]
  },
  {
   "cell_type": "code",
   "execution_count": 5,
   "id": "0a6b5889-bee0-45f7-8be3-78b4cd2ea9f7",
   "metadata": {},
   "outputs": [],
   "source": [
    "input_sequences = []\n",
    "for line in split_lines:\n",
    "    token_list = tokenizer.texts_to_sequences([line])[0]\n",
    "    for i in range(1, len(token_list)):\n",
    "        n_gram_sequence = token_list[:i+1]\n",
    "        input_sequences.append(n_gram_sequence)\n",
    "\n",
    "max_sequence_length = max([len(x) for x in input_sequences])\n",
    "input_sequences = np.array(pad_sequences(input_sequences, maxlen=max_sequence_length, padding='pre'))\n",
    "\n",
    "xs, labels = input_sequences[:,:-1], input_sequences[:,-1]\n",
    "ys = tf.keras.utils.to_categorical(labels, num_classes=total_words)"
   ]
  },
  {
   "cell_type": "code",
   "execution_count": 6,
   "id": "1e128367-2099-4551-aa2e-de9168be3140",
   "metadata": {},
   "outputs": [],
   "source": [
    "# Architect model\n",
    "model = Sequential()\n",
    "model.add(Embedding(total_words, 240, input_length=max_sequence_length-1))\n",
    "model.add(Bidirectional(LSTM(150)))\n",
    "model.add(Dense(total_words, activation='softmax'))\n",
    "model.compile(loss='categorical_crossentropy', optimizer='adam', metrics=['accuracy'])"
   ]
  },
  {
   "cell_type": "code",
   "execution_count": 7,
   "id": "447dcbf2-d71a-4360-9a88-0ad9abf4ec2e",
   "metadata": {},
   "outputs": [
    {
     "name": "stdout",
     "output_type": "stream",
     "text": [
      "Epoch 1/100\n",
      "377/377 [==============================] - 10s 11ms/step - loss: 6.7428 - accuracy: 0.0650\n",
      "Epoch 2/100\n",
      "377/377 [==============================] - 4s 10ms/step - loss: 6.1981 - accuracy: 0.0783\n",
      "Epoch 3/100\n",
      "377/377 [==============================] - 4s 11ms/step - loss: 5.8544 - accuracy: 0.0993\n",
      "Epoch 4/100\n",
      "377/377 [==============================] - 4s 10ms/step - loss: 5.4879 - accuracy: 0.1180\n",
      "Epoch 5/100\n",
      "377/377 [==============================] - 4s 10ms/step - loss: 5.1146 - accuracy: 0.1363\n",
      "Epoch 6/100\n",
      "377/377 [==============================] - 4s 11ms/step - loss: 4.7355 - accuracy: 0.1596\n",
      "Epoch 7/100\n",
      "377/377 [==============================] - 4s 9ms/step - loss: 4.3523 - accuracy: 0.1933\n",
      "Epoch 8/100\n",
      "377/377 [==============================] - 4s 10ms/step - loss: 3.9616 - accuracy: 0.2358\n",
      "Epoch 9/100\n",
      "377/377 [==============================] - 4s 10ms/step - loss: 3.5560 - accuracy: 0.2940\n",
      "Epoch 10/100\n",
      "377/377 [==============================] - 4s 10ms/step - loss: 3.1658 - accuracy: 0.3637\n",
      "Epoch 11/100\n",
      "377/377 [==============================] - 4s 10ms/step - loss: 2.7905 - accuracy: 0.4318\n",
      "Epoch 12/100\n",
      "377/377 [==============================] - 4s 10ms/step - loss: 2.4392 - accuracy: 0.5042\n",
      "Epoch 13/100\n",
      "377/377 [==============================] - 3s 9ms/step - loss: 2.1336 - accuracy: 0.5638\n",
      "Epoch 14/100\n",
      "377/377 [==============================] - 4s 10ms/step - loss: 1.8538 - accuracy: 0.6245\n",
      "Epoch 15/100\n",
      "377/377 [==============================] - 4s 10ms/step - loss: 1.6272 - accuracy: 0.6710\n",
      "Epoch 16/100\n",
      "377/377 [==============================] - 4s 10ms/step - loss: 1.4323 - accuracy: 0.7127\n",
      "Epoch 17/100\n",
      "377/377 [==============================] - 4s 10ms/step - loss: 1.2679 - accuracy: 0.7467\n",
      "Epoch 18/100\n",
      "377/377 [==============================] - 4s 10ms/step - loss: 1.1293 - accuracy: 0.7712\n",
      "Epoch 19/100\n",
      "377/377 [==============================] - 4s 9ms/step - loss: 1.0163 - accuracy: 0.7917\n",
      "Epoch 20/100\n",
      "377/377 [==============================] - 4s 10ms/step - loss: 0.9258 - accuracy: 0.8115\n",
      "Epoch 21/100\n",
      "377/377 [==============================] - 4s 10ms/step - loss: 0.8524 - accuracy: 0.8203\n",
      "Epoch 22/100\n",
      "377/377 [==============================] - 4s 10ms/step - loss: 0.7986 - accuracy: 0.8291\n",
      "Epoch 23/100\n",
      "377/377 [==============================] - 4s 10ms/step - loss: 0.7475 - accuracy: 0.8359\n",
      "Epoch 24/100\n",
      "377/377 [==============================] - 4s 10ms/step - loss: 0.7136 - accuracy: 0.8382\n",
      "Epoch 25/100\n",
      "377/377 [==============================] - 4s 10ms/step - loss: 0.6814 - accuracy: 0.8419\n",
      "Epoch 26/100\n",
      "377/377 [==============================] - 4s 11ms/step - loss: 0.6507 - accuracy: 0.8457\n",
      "Epoch 27/100\n",
      "377/377 [==============================] - 4s 11ms/step - loss: 0.6302 - accuracy: 0.8462\n",
      "Epoch 28/100\n",
      "377/377 [==============================] - 4s 9ms/step - loss: 0.6125 - accuracy: 0.8496\n",
      "Epoch 29/100\n",
      "377/377 [==============================] - 4s 10ms/step - loss: 0.6009 - accuracy: 0.8481\n",
      "Epoch 30/100\n",
      "377/377 [==============================] - 4s 9ms/step - loss: 0.5918 - accuracy: 0.8482\n",
      "Epoch 31/100\n",
      "377/377 [==============================] - 4s 10ms/step - loss: 0.5789 - accuracy: 0.8494\n",
      "Epoch 32/100\n",
      "377/377 [==============================] - 4s 10ms/step - loss: 0.5673 - accuracy: 0.8523\n",
      "Epoch 33/100\n",
      "377/377 [==============================] - 4s 10ms/step - loss: 0.5646 - accuracy: 0.8508\n",
      "Epoch 34/100\n",
      "377/377 [==============================] - 4s 10ms/step - loss: 0.5649 - accuracy: 0.8499\n",
      "Epoch 35/100\n",
      "377/377 [==============================] - 4s 10ms/step - loss: 0.5539 - accuracy: 0.8499\n",
      "Epoch 36/100\n",
      "377/377 [==============================] - 4s 10ms/step - loss: 0.5411 - accuracy: 0.8518\n",
      "Epoch 37/100\n",
      "377/377 [==============================] - 4s 10ms/step - loss: 0.5385 - accuracy: 0.8523\n",
      "Epoch 38/100\n",
      "377/377 [==============================] - 4s 10ms/step - loss: 0.5361 - accuracy: 0.8498\n",
      "Epoch 39/100\n",
      "377/377 [==============================] - 4s 10ms/step - loss: 0.5325 - accuracy: 0.8516\n",
      "Epoch 40/100\n",
      "377/377 [==============================] - 4s 10ms/step - loss: 0.5307 - accuracy: 0.8513\n",
      "Epoch 41/100\n",
      "377/377 [==============================] - 4s 9ms/step - loss: 0.5255 - accuracy: 0.8524\n",
      "Epoch 42/100\n",
      "377/377 [==============================] - 4s 10ms/step - loss: 0.5247 - accuracy: 0.8523\n",
      "Epoch 43/100\n",
      "377/377 [==============================] - 4s 11ms/step - loss: 0.5211 - accuracy: 0.8519\n",
      "Epoch 44/100\n",
      "377/377 [==============================] - 4s 10ms/step - loss: 0.5180 - accuracy: 0.8513\n",
      "Epoch 45/100\n",
      "377/377 [==============================] - 4s 10ms/step - loss: 0.5176 - accuracy: 0.8506\n",
      "Epoch 46/100\n",
      "377/377 [==============================] - 4s 9ms/step - loss: 0.5112 - accuracy: 0.8529\n",
      "Epoch 47/100\n",
      "377/377 [==============================] - 4s 10ms/step - loss: 0.5131 - accuracy: 0.8511\n",
      "Epoch 48/100\n",
      "377/377 [==============================] - 4s 10ms/step - loss: 0.5117 - accuracy: 0.8521\n",
      "Epoch 49/100\n",
      "377/377 [==============================] - 4s 10ms/step - loss: 0.5044 - accuracy: 0.8516\n",
      "Epoch 50/100\n",
      "377/377 [==============================] - 4s 10ms/step - loss: 0.5041 - accuracy: 0.8525\n",
      "Epoch 51/100\n",
      "377/377 [==============================] - 4s 10ms/step - loss: 0.4997 - accuracy: 0.8534\n",
      "Epoch 52/100\n",
      "377/377 [==============================] - 4s 10ms/step - loss: 0.4994 - accuracy: 0.8521\n",
      "Epoch 53/100\n",
      "377/377 [==============================] - 4s 10ms/step - loss: 0.5003 - accuracy: 0.8516\n",
      "Epoch 54/100\n",
      "377/377 [==============================] - 4s 10ms/step - loss: 0.4988 - accuracy: 0.8531\n",
      "Epoch 55/100\n",
      "377/377 [==============================] - 4s 10ms/step - loss: 0.4981 - accuracy: 0.8515\n",
      "Epoch 56/100\n",
      "377/377 [==============================] - 4s 10ms/step - loss: 0.4964 - accuracy: 0.8506\n",
      "Epoch 57/100\n",
      "377/377 [==============================] - 4s 10ms/step - loss: 0.4969 - accuracy: 0.8532\n",
      "Epoch 58/100\n",
      "377/377 [==============================] - 4s 10ms/step - loss: 0.4972 - accuracy: 0.8514\n",
      "Epoch 59/100\n",
      "377/377 [==============================] - 4s 10ms/step - loss: 0.4906 - accuracy: 0.8555\n",
      "Epoch 60/100\n",
      "377/377 [==============================] - 4s 10ms/step - loss: 0.4889 - accuracy: 0.8537\n",
      "Epoch 61/100\n",
      "377/377 [==============================] - 4s 10ms/step - loss: 0.4862 - accuracy: 0.8512\n",
      "Epoch 62/100\n",
      "377/377 [==============================] - 4s 11ms/step - loss: 0.4839 - accuracy: 0.8520\n",
      "Epoch 63/100\n",
      "377/377 [==============================] - 5s 13ms/step - loss: 0.4842 - accuracy: 0.8530\n",
      "Epoch 64/100\n",
      "377/377 [==============================] - 4s 12ms/step - loss: 0.4830 - accuracy: 0.8540\n",
      "Epoch 65/100\n",
      "377/377 [==============================] - 5s 12ms/step - loss: 0.4823 - accuracy: 0.8546\n",
      "Epoch 66/100\n",
      "377/377 [==============================] - 4s 10ms/step - loss: 0.4840 - accuracy: 0.8534\n",
      "Epoch 67/100\n",
      "377/377 [==============================] - 4s 11ms/step - loss: 0.4812 - accuracy: 0.8535\n",
      "Epoch 68/100\n",
      "377/377 [==============================] - 4s 11ms/step - loss: 0.4781 - accuracy: 0.8530\n",
      "Epoch 69/100\n",
      "377/377 [==============================] - 4s 11ms/step - loss: 0.4774 - accuracy: 0.8542\n",
      "Epoch 70/100\n",
      "377/377 [==============================] - 4s 11ms/step - loss: 0.4802 - accuracy: 0.8534\n",
      "Epoch 71/100\n",
      "377/377 [==============================] - 4s 11ms/step - loss: 0.4835 - accuracy: 0.8535\n",
      "Epoch 72/100\n",
      "377/377 [==============================] - 4s 10ms/step - loss: 0.4896 - accuracy: 0.8506\n",
      "Epoch 73/100\n",
      "377/377 [==============================] - 4s 10ms/step - loss: 0.4835 - accuracy: 0.8531\n",
      "Epoch 74/100\n",
      "377/377 [==============================] - 4s 10ms/step - loss: 0.4753 - accuracy: 0.8530\n",
      "Epoch 75/100\n",
      "377/377 [==============================] - 4s 11ms/step - loss: 0.4730 - accuracy: 0.8548\n",
      "Epoch 76/100\n",
      "377/377 [==============================] - 4s 11ms/step - loss: 0.4729 - accuracy: 0.8550\n",
      "Epoch 77/100\n",
      "377/377 [==============================] - 4s 11ms/step - loss: 0.4704 - accuracy: 0.8550\n",
      "Epoch 78/100\n",
      "377/377 [==============================] - 4s 11ms/step - loss: 0.4698 - accuracy: 0.8545\n",
      "Epoch 79/100\n",
      "377/377 [==============================] - 4s 11ms/step - loss: 0.4702 - accuracy: 0.8555\n",
      "Epoch 80/100\n",
      "377/377 [==============================] - 4s 10ms/step - loss: 0.4695 - accuracy: 0.8539\n",
      "Epoch 81/100\n",
      "377/377 [==============================] - 4s 10ms/step - loss: 0.4698 - accuracy: 0.8558\n",
      "Epoch 82/100\n",
      "377/377 [==============================] - 4s 11ms/step - loss: 0.4704 - accuracy: 0.8530\n",
      "Epoch 83/100\n",
      "377/377 [==============================] - 4s 10ms/step - loss: 0.4728 - accuracy: 0.8530\n",
      "Epoch 84/100\n",
      "377/377 [==============================] - 4s 10ms/step - loss: 0.4832 - accuracy: 0.8522\n",
      "Epoch 85/100\n",
      "377/377 [==============================] - 4s 10ms/step - loss: 0.4740 - accuracy: 0.8540\n",
      "Epoch 86/100\n",
      "377/377 [==============================] - 4s 10ms/step - loss: 0.4668 - accuracy: 0.8535\n",
      "Epoch 87/100\n",
      "377/377 [==============================] - 4s 10ms/step - loss: 0.4641 - accuracy: 0.8555\n",
      "Epoch 88/100\n",
      "377/377 [==============================] - 4s 10ms/step - loss: 0.4654 - accuracy: 0.8542\n",
      "Epoch 89/100\n",
      "377/377 [==============================] - 4s 10ms/step - loss: 0.4645 - accuracy: 0.8538\n",
      "Epoch 90/100\n",
      "377/377 [==============================] - 4s 10ms/step - loss: 0.4654 - accuracy: 0.8527\n",
      "Epoch 91/100\n",
      "377/377 [==============================] - 4s 10ms/step - loss: 0.4660 - accuracy: 0.8554\n",
      "Epoch 92/100\n",
      "377/377 [==============================] - 4s 10ms/step - loss: 0.4658 - accuracy: 0.8545\n",
      "Epoch 93/100\n",
      "377/377 [==============================] - 4s 10ms/step - loss: 0.4648 - accuracy: 0.8552\n",
      "Epoch 94/100\n",
      "377/377 [==============================] - 4s 10ms/step - loss: 0.4628 - accuracy: 0.8546\n",
      "Epoch 95/100\n",
      "377/377 [==============================] - 4s 11ms/step - loss: 0.4616 - accuracy: 0.8545\n",
      "Epoch 96/100\n",
      "377/377 [==============================] - 4s 10ms/step - loss: 0.4614 - accuracy: 0.8560\n",
      "Epoch 97/100\n",
      "377/377 [==============================] - 4s 10ms/step - loss: 0.4607 - accuracy: 0.8554\n",
      "Epoch 98/100\n",
      "377/377 [==============================] - 4s 9ms/step - loss: 0.4622 - accuracy: 0.8530\n",
      "Epoch 99/100\n",
      "377/377 [==============================] - 4s 10ms/step - loss: 0.4609 - accuracy: 0.8556\n",
      "Epoch 100/100\n",
      "377/377 [==============================] - 4s 10ms/step - loss: 0.4604 - accuracy: 0.8539\n"
     ]
    }
   ],
   "source": [
    "# Train\n",
    "history = model.fit(xs, ys, epochs=100, verbose=1)"
   ]
  },
  {
   "cell_type": "code",
   "execution_count": 8,
   "id": "c702219e-5a70-4884-9831-9301fe803102",
   "metadata": {},
   "outputs": [
    {
     "data": {
      "image/png": "[encoded data removed]",
      "text/plain": [
       "<Figure size 640x480 with 1 Axes>"
      ]
     },
     "metadata": {},
     "output_type": "display_data"
    }
   ],
   "source": [
    "import matplotlib.pyplot as plt\n",
    "\n",
    "def plot_graphs(history, string):\n",
    "  plt.plot(history.history[string])\n",
    "  plt.xlabel(\"Epochs\")\n",
    "  plt.ylabel(string)\n",
    "  plt.show()\n",
    "\n",
    "plot_graphs(history, 'accuracy')"
   ]
  },
  {
   "cell_type": "code",
   "execution_count": 20,
   "id": "7363afda-1ef3-4e9c-9c55-9b708fbfd597",
   "metadata": {},
   "outputs": [
    {
     "name": "stdout",
     "output_type": "stream",
     "text": [
      "1/1 [==============================] - 0s 16ms/step\n",
      "from\n"
     ]
    }
   ],
   "source": [
    "text = \"I've got up\"\n",
    "token_list = tokenizer.texts_to_sequences([text])[0]\n",
    "token_list = pad_sequences([token_list], maxlen=max_sequence_length-1, padding='pre')\n",
    "yhat = np.argmax(model.predict(token_list))\n",
    "for word, index in tokenizer.word_index.items():\n",
    "    if index == yhat:\n",
    "        print(word)\n",
    "        break"
   ]
  },
  {
   "cell_type": "code",
   "execution_count": 21,
   "id": "6105fab7-f5ed-47f4-b3d1-1b22e6ce7d30",
   "metadata": {},
   "outputs": [
    {
     "name": "stdout",
     "output_type": "stream",
     "text": [
      "1/1 [==============================] - 0s 26ms/step\n",
      "1/1 [==============================] - 0s 14ms/step\n",
      "1/1 [==============================] - 0s 14ms/step\n",
      "1/1 [==============================] - 0s 15ms/step\n",
      "1/1 [==============================] - 0s 14ms/step\n",
      "1/1 [==============================] - 0s 14ms/step\n",
      "1/1 [==============================] - 0s 14ms/step\n",
      "1/1 [==============================] - 0s 14ms/step\n",
      "1/1 [==============================] - 0s 14ms/step\n",
      "1/1 [==============================] - 0s 14ms/step\n",
      "1/1 [==============================] - 0s 14ms/step\n",
      "1/1 [==============================] - 0s 14ms/step\n",
      "1/1 [==============================] - 0s 14ms/step\n",
      "1/1 [==============================] - 0s 14ms/step\n",
      "1/1 [==============================] - 0s 14ms/step\n",
      "1/1 [==============================] - 0s 15ms/step\n",
      "1/1 [==============================] - 0s 15ms/step\n",
      "1/1 [==============================] - 0s 14ms/step\n",
      "1/1 [==============================] - 0s 14ms/step\n",
      "1/1 [==============================] - 0s 14ms/step\n",
      "I've got a bad feeling about this water is a stone youd sash of our friend bride us remark to stand your bubblin bubblin bubblin bubblin keep\n"
     ]
    }
   ],
   "source": [
    "seed_text = \"I've got a bad feeling about this\"\n",
    "next_words = 20\n",
    "  \n",
    "for _ in range(next_words):\n",
    "\ttoken_list = tokenizer.texts_to_sequences([seed_text])[0]\n",
    "\ttoken_list = pad_sequences([token_list], maxlen=max_sequence_length-1, padding='pre')\n",
    "\tpredicted = np.argmax(model.predict(token_list), axis=-1)\n",
    "\toutput_word = \"\"\n",
    "\tfor word, index in tokenizer.word_index.items():\n",
    "\t\tif index == predicted:\n",
    "\t\t\toutput_word = word\n",
    "\t\t\tbreak\n",
    "\tseed_text += \" \" + output_word\n",
    "print(seed_text)"
   ]
  },
  {
   "cell_type": "code",
   "execution_count": null,
   "id": "321608c0-0715-4649-963e-dc9ee0cc4fbf",
   "metadata": {},
   "outputs": [],
   "source": []
  }
 ],
 "metadata": {
  "kernelspec": {
   "display_name": "cuda",
   "language": "python",
   "name": "cuda"
  },
  "language_info": {
   "codemirror_mode": {
    "name": "ipython",
    "version": 3
   },
   "file_extension": ".py",
   "mimetype": "text/x-python",
   "name": "python",
   "nbconvert_exporter": "python",
   "pygments_lexer": "ipython3",
   "version": "3.9.6"
  }
 },
 "nbformat": 4,
 "nbformat_minor": 5
}
