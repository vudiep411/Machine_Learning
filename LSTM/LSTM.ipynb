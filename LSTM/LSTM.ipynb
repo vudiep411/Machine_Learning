{
 "cells": [
  {
   "cell_type": "code",
   "execution_count": null,
   "id": "be7a4ca3-c952-428d-bbfb-873d068c742f",
   "metadata": {},
   "outputs": [],
   "source": [
    "!pip install opencv-python matplotlib seaborn panda numpy sklearn"
   ]
  },
  {
   "cell_type": "code",
   "execution_count": 7,
   "id": "75302c93-d94f-4367-b8cb-0b17ff658998",
   "metadata": {},
   "outputs": [],
   "source": [
    "import tensorflow as tf\n",
    "import matplotlib.pyplot as plt\n",
    "import numpy as np\n",
    "import pandas as pd\n",
    "from keras.layers import LSTM, Dense, Dropout\n",
    "from keras.models import Sequential\n",
    "from sklearn.model_selection import train_test_split"
   ]
  },
  {
   "cell_type": "code",
   "execution_count": 8,
   "id": "588faf19-100d-49c9-9739-5df078a67b6e",
   "metadata": {},
   "outputs": [],
   "source": [
    "gpus = tf.config.experimental.list_physical_devices('GPU')\n",
    "for gpu in gpus:\n",
    "    tf.config.experimental.set_memory_growth(gpu, True)"
   ]
  },
  {
   "cell_type": "code",
   "execution_count": 9,
   "id": "4aa45f49-4a2b-4f92-bb67-90c0ed040c0c",
   "metadata": {},
   "outputs": [
    {
     "name": "stdout",
     "output_type": "stream",
     "text": [
      "Num GPUs Available:  1\n"
     ]
    }
   ],
   "source": [
    "print(\"Num GPUs Available: \", len(tf.config.list_physical_devices('GPU')))"
   ]
  },
  {
   "cell_type": "code",
   "execution_count": 13,
   "id": "cc211a02-44a3-46b5-9dd0-f4f3a02cb14e",
   "metadata": {},
   "outputs": [],
   "source": [
    "nodding_df = pd.read_csv(\"../mediapipe/csv_data/NODDING.csv\")\n",
    "handwave_df = pd.read_csv(\"../mediapipe/csv_data/HANDWAVE.csv\")"
   ]
  },
  {
   "cell_type": "code",
   "execution_count": 35,
   "id": "7ab074ee-78e9-44a2-a7df-311d14f24331",
   "metadata": {},
   "outputs": [
    {
     "data": {
      "text/plain": [
       "(1180, 10, 132)"
      ]
     },
     "execution_count": 35,
     "metadata": {},
     "output_type": "execute_result"
    }
   ],
   "source": [
    "no_of_timestep = 10\n",
    "X = []\n",
    "y = []\n",
    "\n",
    "# Define labels\n",
    "# 0 - nodding\n",
    "# 1 - handwave\n",
    "nodding_data = nodding_df.iloc[:,:].values\n",
    "for i in range(no_of_timestep, len(nodding_data)):\n",
    "    X.append(nodding_data[i-no_of_timestep:i,:])\n",
    "    y.append(0)\n",
    "\n",
    "handwave_data = handwave_df.iloc[:,:].values\n",
    "for i in range(no_of_timestep, len(handwave_data)):\n",
    "    X.append(handwave_data[i-no_of_timestep:i,:])\n",
    "    y.append(1)\n",
    "\n",
    "X, y = np.array(X), np.array(y)\n",
    "X.shape"
   ]
  },
  {
   "cell_type": "code",
   "execution_count": 38,
   "id": "9d43c01f-e3c7-4ccd-9017-0aecef3745cc",
   "metadata": {},
   "outputs": [],
   "source": [
    "# Architect model\n",
    "X_train, X_test, y_train, y_test = train_test_split(X, y, test_size=0.2)\n",
    "\n",
    "model = Sequential()\n",
    "model.add(LSTM(units=50, return_sequences=True, input_shape=(X.shape[1], X.shape[2])))\n",
    "model.add(Dropout(0.2))\n",
    "model.add(LSTM(units=50, return_sequences=True))\n",
    "model.add(Dropout(0.2))\n",
    "model.add(LSTM(units=50, return_sequences=True))\n",
    "model.add(Dropout(0.2))\n",
    "model.add(LSTM(units=50))\n",
    "model.add(Dropout(0.2))\n",
    "model.add(Dense(units=1, activation=\"sigmoid\"))\n",
    "model.compile(optimizer=\"adam\", metrics = ['accuracy'], loss = \"binary_crossentropy\")"
   ]
  },
  {
   "cell_type": "code",
   "execution_count": 42,
   "id": "a6465c9e-ebc5-458f-acef-f5d50ca11f6b",
   "metadata": {},
   "outputs": [
    {
     "name": "stdout",
     "output_type": "stream",
     "text": [
      "Epoch 1/16\n",
      "30/30 [==============================] - 1s 27ms/step - loss: 1.3969e-04 - accuracy: 1.0000 - val_loss: 9.0034e-05 - val_accuracy: 1.0000\n",
      "Epoch 2/16\n",
      "30/30 [==============================] - 1s 24ms/step - loss: 1.2318e-04 - accuracy: 1.0000 - val_loss: 8.2456e-05 - val_accuracy: 1.0000\n",
      "Epoch 3/16\n",
      "30/30 [==============================] - 1s 23ms/step - loss: 1.1914e-04 - accuracy: 1.0000 - val_loss: 7.5860e-05 - val_accuracy: 1.0000\n",
      "Epoch 4/16\n",
      "30/30 [==============================] - 1s 23ms/step - loss: 1.0640e-04 - accuracy: 1.0000 - val_loss: 7.0224e-05 - val_accuracy: 1.0000\n",
      "Epoch 5/16\n",
      "30/30 [==============================] - 1s 22ms/step - loss: 1.0385e-04 - accuracy: 1.0000 - val_loss: 6.5287e-05 - val_accuracy: 1.0000\n",
      "Epoch 6/16\n",
      "30/30 [==============================] - 1s 22ms/step - loss: 8.9522e-05 - accuracy: 1.0000 - val_loss: 6.1147e-05 - val_accuracy: 1.0000\n",
      "Epoch 7/16\n",
      "30/30 [==============================] - 1s 22ms/step - loss: 9.1472e-05 - accuracy: 1.0000 - val_loss: 5.7368e-05 - val_accuracy: 1.0000\n",
      "Epoch 8/16\n",
      "30/30 [==============================] - 1s 22ms/step - loss: 8.3740e-05 - accuracy: 1.0000 - val_loss: 5.3903e-05 - val_accuracy: 1.0000\n",
      "Epoch 9/16\n",
      "30/30 [==============================] - 1s 22ms/step - loss: 7.8887e-05 - accuracy: 1.0000 - val_loss: 5.0920e-05 - val_accuracy: 1.0000\n",
      "Epoch 10/16\n",
      "30/30 [==============================] - 1s 22ms/step - loss: 7.8620e-05 - accuracy: 1.0000 - val_loss: 4.8093e-05 - val_accuracy: 1.0000\n",
      "Epoch 11/16\n",
      "30/30 [==============================] - 1s 22ms/step - loss: 7.1745e-05 - accuracy: 1.0000 - val_loss: 4.5555e-05 - val_accuracy: 1.0000\n",
      "Epoch 12/16\n",
      "30/30 [==============================] - 1s 22ms/step - loss: 6.5215e-05 - accuracy: 1.0000 - val_loss: 4.3249e-05 - val_accuracy: 1.0000\n",
      "Epoch 13/16\n",
      "30/30 [==============================] - 1s 22ms/step - loss: 6.3897e-05 - accuracy: 1.0000 - val_loss: 4.1138e-05 - val_accuracy: 1.0000\n",
      "Epoch 14/16\n",
      "30/30 [==============================] - 1s 22ms/step - loss: 6.1622e-05 - accuracy: 1.0000 - val_loss: 3.9165e-05 - val_accuracy: 1.0000\n",
      "Epoch 15/16\n",
      "30/30 [==============================] - 1s 22ms/step - loss: 5.8550e-05 - accuracy: 1.0000 - val_loss: 3.7330e-05 - val_accuracy: 1.0000\n",
      "Epoch 16/16\n",
      "30/30 [==============================] - 1s 22ms/step - loss: 5.7781e-05 - accuracy: 1.0000 - val_loss: 3.5546e-05 - val_accuracy: 1.0000\n"
     ]
    }
   ],
   "source": [
    "history = model.fit(X_train, y_train, epochs=16, batch_size=32,validation_data=(X_test, y_test))"
   ]
  },
  {
   "cell_type": "code",
   "execution_count": null,
   "id": "93eea1e6-d976-45e2-8dac-066b5b16e844",
   "metadata": {},
   "outputs": [],
   "source": [
    "# loss\n",
    "fig = plt.figure()\n",
    "plt.plot(history.history['loss'], color='teal', label='loss')\n",
    "plt.plot(history.history['val_loss'], color='orange', label='val_loss')\n",
    "fig.suptitle('Loss', fontsize=20)\n",
    "plt.legend(loc=\"upper left\")\n",
    "plt.show()"
   ]
  },
  {
   "cell_type": "code",
   "execution_count": null,
   "id": "69b2ded5-d3b7-4427-ad5d-e63b109dd044",
   "metadata": {},
   "outputs": [],
   "source": [
    "# Accuracy\n",
    "fig = plt.figure()\n",
    "plt.plot(history.history['accuracy'], color='teal', label='accuracy')\n",
    "plt.plot(history.history['val_accuracy'], color='orange', label='val_accuracy')\n",
    "fig.suptitle('Accuracy', fontsize=20)\n",
    "plt.legend(loc=\"upper left\")\n",
    "plt.show()"
   ]
  },
  {
   "cell_type": "code",
   "execution_count": 46,
   "id": "e20bb371-fd4f-4a39-8320-6afe704c183e",
   "metadata": {},
   "outputs": [],
   "source": [
    "model.save('./models/nodwave.h5')"
   ]
  },
  {
   "cell_type": "code",
   "execution_count": null,
   "id": "f0406cc9-8725-412e-846b-c70e04264f4a",
   "metadata": {},
   "outputs": [],
   "source": []
  }
 ],
 "metadata": {
  "kernelspec": {
   "display_name": "cuda",
   "language": "python",
   "name": "cuda"
  },
  "language_info": {
   "codemirror_mode": {
    "name": "ipython",
    "version": 3
   },
   "file_extension": ".py",
   "mimetype": "text/x-python",
   "name": "python",
   "nbconvert_exporter": "python",
   "pygments_lexer": "ipython3",
   "version": "3.9.6"
  }
 },
 "nbformat": 4,
 "nbformat_minor": 5
}
