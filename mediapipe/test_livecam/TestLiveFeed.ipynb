{
 "cells": [
  {
   "cell_type": "code",
   "execution_count": 2,
   "id": "100b66bc-9222-4931-85a1-72b6978cc645",
   "metadata": {},
   "outputs": [
    {
     "name": "stdout",
     "output_type": "stream",
     "text": [
      "WARNING:tensorflow:From C:\\Users\\Vu Diep\\Desktop\\Machine-Learning\\mediapipe\\mediapipe\\lib\\site-packages\\keras\\src\\losses.py:2976: The name tf.losses.sparse_softmax_cross_entropy is deprecated. Please use tf.compat.v1.losses.sparse_softmax_cross_entropy instead.\n",
      "\n"
     ]
    }
   ],
   "source": [
    "import cv2\n",
    "import mediapipe as mp\n",
    "import numpy as np\n",
    "import threading\n",
    "import tensorflow as tf"
   ]
  },
  {
   "cell_type": "code",
   "execution_count": 3,
   "id": "3713ae6d-e641-431f-9c93-1eb16a875878",
   "metadata": {},
   "outputs": [
    {
     "name": "stdout",
     "output_type": "stream",
     "text": [
      "WARNING:tensorflow:From C:\\Users\\Vu Diep\\Desktop\\Machine-Learning\\mediapipe\\mediapipe\\lib\\site-packages\\keras\\src\\backend.py:1398: The name tf.executing_eagerly_outside_functions is deprecated. Please use tf.compat.v1.executing_eagerly_outside_functions instead.\n",
      "\n"
     ]
    }
   ],
   "source": [
    "label = \"Warmup....\"\n",
    "n_time_steps = 10\n",
    "lm_list = []\n",
    "model = tf.keras.models.load_model(\"../../LSTM/models/nodwave.h5\")"
   ]
  },
  {
   "cell_type": "code",
   "execution_count": 4,
   "id": "9db4f885-cdbe-4423-8139-e1472bda501d",
   "metadata": {},
   "outputs": [],
   "source": [
    "def make_landmark_timestep(results):\n",
    "    l = []\n",
    "    landmark_res = results.pose_landmarks.landmark\n",
    "    for idx, lm in enumerate(landmark_res):\n",
    "        l.append(lm.x)\n",
    "        l.append(lm.y)\n",
    "        l.append(lm.z)\n",
    "        l.append(lm.visibility)\n",
    "    return l"
   ]
  },
  {
   "cell_type": "code",
   "execution_count": 5,
   "id": "a1b4847c-aca9-4d9b-af50-83cb119602b0",
   "metadata": {},
   "outputs": [],
   "source": [
    "def draw_class_on_image(label, img):\n",
    "    font = cv2.FONT_HERSHEY_SIMPLEX\n",
    "    bottomLeftCornerOfText = (10, 30)\n",
    "    fontScale = 1\n",
    "    fontColor = (0, 255, 0)\n",
    "    thickness = 2\n",
    "    lineType = 2\n",
    "    cv2.putText(img, label,\n",
    "                bottomLeftCornerOfText,\n",
    "                font,\n",
    "                fontScale,\n",
    "                fontColor,\n",
    "                thickness,\n",
    "                lineType)\n",
    "    return img"
   ]
  },
  {
   "cell_type": "code",
   "execution_count": 16,
   "id": "0a2bcf27-171f-446b-a64a-d02f4d42a6c8",
   "metadata": {},
   "outputs": [],
   "source": [
    "# Define labels\n",
    "# 0 - nodding\n",
    "# 1 - handwave\n",
    "# 2 - nothing\n",
    "def detect(model, lm_list):\n",
    "    global label\n",
    "    lm_list = np.array(lm_list)\n",
    "    lm_list = np.expand_dims(lm_list, axis=0)\n",
    "    yhat = model.predict(lm_list)\n",
    "    yhat = np.argmax(yhat, axis=1)\n",
    "    actions = {\n",
    "        0: \"Nodding\",\n",
    "        1: \"Waving\",\n",
    "        2: \"Nothing\"\n",
    "    }\n",
    "    # print(yhat)\n",
    "    label = actions[yhat[0]]\n",
    "    return actions[yhat[0]]"
   ]
  },
  {
   "cell_type": "code",
   "execution_count": null,
   "id": "09399344-5b0b-4758-aa86-0e4277a59d08",
   "metadata": {},
   "outputs": [],
   "source": [
    "mp_drawing = mp.solutions.drawing_utils # Drawing helpers\n",
    "mp_pose = mp.solutions.pose # Mediapipe Solutions\n",
    "cap = cv2.VideoCapture(0)\n",
    "lm_list = []\n",
    "time_steps = 10\n",
    "\n",
    "with mp_pose.Pose(min_detection_confidence=0.5, min_tracking_confidence=0.5) as pose:\n",
    "    while cap.isOpened():\n",
    "        ret, frame = cap.read()\n",
    "        \n",
    "        # Recolor Feed\n",
    "        image = cv2.cvtColor(frame, cv2.COLOR_BGR2RGB)\n",
    "        image.flags.writeable = False        \n",
    "        \n",
    "        # Make Detections\n",
    "        results = pose.process(image)\n",
    "\n",
    "        # Detect after 10 frames\n",
    "        if results.pose_landmarks:\n",
    "            lm = make_landmark_timestep(results)\n",
    "            lm_list.append(lm)\n",
    "            if len(lm_list) == time_steps:\n",
    "                t1 = threading.Thread(target=detect, args=(model, lm_list,))\n",
    "                t1.start()\n",
    "                lm_list = []\n",
    "                \n",
    "        # Recolor image back to BGR for rendering\n",
    "        image.flags.writeable = True   \n",
    "        image = cv2.cvtColor(image, cv2.COLOR_RGB2BGR)\n",
    "\n",
    "        # Pose Detections\n",
    "        mp_drawing.draw_landmarks(image, results.pose_landmarks, mp_pose.POSE_CONNECTIONS, \n",
    "                                 mp_drawing.DrawingSpec(color=(245,117,66), thickness=2, circle_radius=4),\n",
    "                                 mp_drawing.DrawingSpec(color=(245,66,230), thickness=2, circle_radius=2)\n",
    "                               )\n",
    "        # Prediction\n",
    "        image = draw_class_on_image(label, image)\n",
    "                        \n",
    "        cv2.imshow('Webcam feed', image)\n",
    "\n",
    "        if cv2.waitKey(10) & 0xFF == ord('q'):\n",
    "            break\n",
    "\n",
    "cap.release()\n",
    "cv2.destroyAllWindows()"
   ]
  },
  {
   "cell_type": "code",
   "execution_count": null,
   "id": "4c4fec0a-8263-4f36-ba9f-cae836e37a12",
   "metadata": {},
   "outputs": [],
   "source": []
  }
 ],
 "metadata": {
  "kernelspec": {
   "display_name": "mediapipe",
   "language": "python",
   "name": "mediapipe"
  },
  "language_info": {
   "codemirror_mode": {
    "name": "ipython",
    "version": 3
   },
   "file_extension": ".py",
   "mimetype": "text/x-python",
   "name": "python",
   "nbconvert_exporter": "python",
   "pygments_lexer": "ipython3",
   "version": "3.9.6"
  }
 },
 "nbformat": 4,
 "nbformat_minor": 5
}
