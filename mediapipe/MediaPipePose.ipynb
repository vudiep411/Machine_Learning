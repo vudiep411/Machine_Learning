{
 "cells": [
  {
   "cell_type": "code",
   "execution_count": 1,
   "id": "9d98ca86-d2aa-4ae7-877f-46e761a70264",
   "metadata": {},
   "outputs": [],
   "source": [
    "import mediapipe as mp # Import mediapipe\n",
    "import cv2 # Import opencv\n",
    "import pandas as pd"
   ]
  },
  {
   "cell_type": "code",
   "execution_count": 12,
   "id": "a83500eb-545a-45e4-ad50-3e7bd4588143",
   "metadata": {},
   "outputs": [],
   "source": [
    "# Save landmark into array\n",
    "def make_landmark_timestep(results):\n",
    "    l = []\n",
    "    landmark_res = results.pose_landmarks.landmark\n",
    "    for idx, lm in enumerate(landmark_res):\n",
    "        l.append(lm.x)\n",
    "        l.append(lm.y)\n",
    "        l.append(lm.z)\n",
    "        l.append(lm.visibility)\n",
    "    return l\n"
   ]
  },
  {
   "cell_type": "code",
   "execution_count": 17,
   "id": "1fa7c1f3-f916-45d8-9889-f0cd2503df32",
   "metadata": {},
   "outputs": [],
   "source": [
    "mp_drawing = mp.solutions.drawing_utils # Drawing helpers\n",
    "mp_pose = mp.solutions.pose # Mediapipe Solutions\n",
    "no_of_frames = 600\n",
    "cap = cv2.VideoCapture(0)\n",
    "lm_list = []\n",
    "\n",
    "with mp_pose.Pose(min_detection_confidence=0.5, min_tracking_confidence=0.5) as pose:\n",
    "    while len(lm_list) < no_of_frames:\n",
    "        ret, frame = cap.read()\n",
    "        \n",
    "        # Recolor Feed\n",
    "        image = cv2.cvtColor(frame, cv2.COLOR_BGR2RGB)\n",
    "        image.flags.writeable = False        \n",
    "        \n",
    "        # Make Detections\n",
    "        results = pose.process(image)\n",
    "\n",
    "        # Save into a list\n",
    "        if results.pose_landmarks:\n",
    "            lm = make_landmark_timestep(results)\n",
    "            lm_list.append(lm)\n",
    "        \n",
    "        # Recolor image back to BGR for rendering\n",
    "        image.flags.writeable = True   \n",
    "        image = cv2.cvtColor(image, cv2.COLOR_RGB2BGR)\n",
    "\n",
    "        # 1. Pose Detections\n",
    "        mp_drawing.draw_landmarks(image, results.pose_landmarks, mp_pose.POSE_CONNECTIONS, \n",
    "                                 mp_drawing.DrawingSpec(color=(245,117,66), thickness=2, circle_radius=4),\n",
    "                                 mp_drawing.DrawingSpec(color=(245,66,230), thickness=2, circle_radius=2)\n",
    "                                 )\n",
    "                        \n",
    "        cv2.imshow('Webcam feed', image)\n",
    "\n",
    "        if cv2.waitKey(10) & 0xFF == ord('q'):\n",
    "            break\n",
    "\n",
    "cap.release()\n",
    "cv2.destroyAllWindows()"
   ]
  },
  {
   "cell_type": "code",
   "execution_count": 18,
   "id": "dfecf1fb-0d20-46f7-aeca-7196c09e3177",
   "metadata": {},
   "outputs": [],
   "source": [
    "label = 'NODDING'\n",
    "df = pd.DataFrame(lm_list)\n",
    "df.to_csv(f\"./csv_data/{label}.csv\",index=False)"
   ]
  },
  {
   "cell_type": "code",
   "execution_count": null,
   "id": "6b4dd4be-42da-4889-8183-b630fcdfe5a3",
   "metadata": {},
   "outputs": [],
   "source": []
  }
 ],
 "metadata": {
  "kernelspec": {
   "display_name": "mediapipe",
   "language": "python",
   "name": "mediapipe"
  },
  "language_info": {
   "codemirror_mode": {
    "name": "ipython",
    "version": 3
   },
   "file_extension": ".py",
   "mimetype": "text/x-python",
   "name": "python",
   "nbconvert_exporter": "python",
   "pygments_lexer": "ipython3",
   "version": "3.9.6"
  }
 },
 "nbformat": 4,
 "nbformat_minor": 5
}
