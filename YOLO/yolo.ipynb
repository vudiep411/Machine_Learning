{
 "cells": [
  {
   "cell_type": "code",
   "execution_count": null,
   "id": "36053292-ad08-4ceb-b3df-3ec75cd51861",
   "metadata": {},
   "outputs": [],
   "source": [
    "!pip install ultralytics"
   ]
  },
  {
   "cell_type": "code",
   "execution_count": null,
   "id": "11246cc9-97fe-4ee7-ac5f-a925b5d69295",
   "metadata": {},
   "outputs": [],
   "source": [
    "!pip install \"hub-sdk>=0.0.2\""
   ]
  },
  {
   "cell_type": "code",
   "execution_count": 5,
   "id": "64124ec8-8ca9-4a0a-b13a-4f2e47b5f970",
   "metadata": {},
   "outputs": [],
   "source": [
    "import ultralytics\n",
    "from ultralytics import YOLO\n",
    "import os"
   ]
  },
  {
   "cell_type": "code",
   "execution_count": null,
   "id": "1bd7ec31-a476-4a6b-846e-90921b5f181c",
   "metadata": {},
   "outputs": [],
   "source": [
    "!yolo predict model=yolov8n.pt source='https://ultralytics.com/images/zidane.jpg'"
   ]
  },
  {
   "cell_type": "code",
   "execution_count": null,
   "id": "74b8bb1f-b097-4bcc-8b85-a524451608c2",
   "metadata": {},
   "outputs": [],
   "source": [
    "yolo_models = {\n",
    "    \"nano\": \"yolov8n.pt\",\n",
    "    \"small\": \"yolov8s.pt\",\n",
    "    \"medium\": \"yolov8m.pt\",\n",
    "    \"large\": \"yolov8l.pt\",\n",
    "    \"extra_large\": \"yolov8x.pt\"\n",
    "}\n",
    "\n",
    "model = YOLO(yolo_models[\"nano\"])"
   ]
  },
  {
   "cell_type": "code",
   "execution_count": null,
   "id": "b51a3031-67f1-4313-80a4-c799e94ce25c",
   "metadata": {},
   "outputs": [],
   "source": [
    "# results = model.train(data=\"config.yaml\", epochs=20)\n",
    "!yolo task=detect mode=train model=yolov8n.pt data=config.yaml epochs=20 imgsz=640"
   ]
  },
  {
   "cell_type": "code",
   "execution_count": null,
   "id": "714974c7-b67b-4e62-9722-40c6d630b45d",
   "metadata": {},
   "outputs": [],
   "source": []
  }
 ],
 "metadata": {
  "kernelspec": {
   "display_name": "yolo",
   "language": "python",
   "name": "yolo"
  },
  "language_info": {
   "codemirror_mode": {
    "name": "ipython",
    "version": 3
   },
   "file_extension": ".py",
   "mimetype": "text/x-python",
   "name": "python",
   "nbconvert_exporter": "python",
   "pygments_lexer": "ipython3",
   "version": "3.9.6"
  }
 },
 "nbformat": 4,
 "nbformat_minor": 5
}
